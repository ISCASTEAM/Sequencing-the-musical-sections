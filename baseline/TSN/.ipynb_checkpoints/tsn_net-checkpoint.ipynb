{
 "cells": [
  {
   "cell_type": "code",
   "execution_count": 1,
   "metadata": {
    "collapsed": false
   },
   "outputs": [
    {
     "name": "stdout",
     "output_type": "stream",
     "text": [
      "importing Jupyter notebook from tsn_dataloader.ipynb\n"
     ]
    }
   ],
   "source": [
    "import numpy as np\n",
    "import librosa\n",
    "import glob\n",
    "import os\n",
    "from random import randint\n",
    "import torch\n",
    "import torch.nn as nn\n",
    "from torch.utils import data\n",
    "import torch.optim as optim\n",
    "from torch.utils.data import DataLoader\n",
    "from torch.utils.data import sampler\n",
    "import matplotlib.pyplot as plt\n",
    "import torch.nn.functional as F\n",
    "%matplotlib inline\n",
    "\n",
    "\n",
    "import import_ipynb\n",
    "from tsn_dataloader import *"
   ]
  },
  {
   "cell_type": "code",
   "execution_count": 4,
   "metadata": {
    "collapsed": true
   },
   "outputs": [],
   "source": [
    "class SEN_classify(nn.Module):\n",
    "    def __init__(self):\n",
    "        super().__init__()\n",
    "        self.siamese_cnn = nn.Sequential(\n",
    "            nn.Conv2d(1, 128, kernel_size=[4,128],stride=[1,128]),\n",
    "            nn.BatchNorm2d(128),\n",
    "            nn.ReLU(),\n",
    "\n",
    "            nn.Conv2d(128, 256, kernel_size=[4,1],stride=[1,1]),\n",
    "            nn.BatchNorm2d(256),\n",
    "            nn.ReLU(),\n",
    "\n",
    "            nn.Conv2d(256, 256, kernel_size=[4,1],stride=[1,1]),\n",
    "            nn.BatchNorm2d(256),\n",
    "            nn.ReLU(),\n",
    "            )\n",
    "        \n",
    "        self.fcWithDropout = nn.Sequential(\n",
    "            # many weights in state_dict\n",
    "            nn.Linear(256*336, 1024),\n",
    "            nn.BatchNorm1d(1024),\n",
    "            nn.ReLU(),\n",
    "            nn.Dropout(p=0.5),\n",
    "\n",
    "            nn.Linear(1024, 1024),\n",
    "            nn.BatchNorm1d(1024),\n",
    "            nn.ReLU(),\n",
    "            nn.Dropout(p=0.5),\n",
    "            nn.Linear(1024, 2),\n",
    "            nn.Softmax(dim=1),\n",
    "            )\n",
    "        \n",
    "    def forward_once(self,x):\n",
    "        out1 = self.siamese_cnn(x)\n",
    "        batchSize = list(out1.size())[0]\n",
    "        out = out1.view(batchSize,-1)\n",
    "        predictions = self.fcWithDropout(out)\n",
    "        return predictions\n",
    "    \n",
    "    def forward(self,x1,x2):\n",
    "        out1 = self.forward_once(x1)\n",
    "        out2 = self.forward_once(x2)\n",
    "        return out1,out2"
   ]
  },
  {
   "cell_type": "code",
   "execution_count": 5,
   "metadata": {
    "collapsed": false
   },
   "outputs": [
    {
     "name": "stdout",
     "output_type": "stream",
     "text": [
      "torch.Size([10, 5])\n",
      "tensor([[-0.3307, -0.3833,  0.2020, -0.1937,  0.2390],\n",
      "        [ 0.2255, -0.6276, -0.1628,  0.1090, -0.0026],\n",
      "        [ 0.0897, -0.1879, -0.1939,  0.0362, -0.2939],\n",
      "        [-0.4174, -0.3084, -0.0079, -0.3383, -0.1640],\n",
      "        [ 0.2330, -0.4543, -0.1598,  0.2717, -0.2261],\n",
      "        [ 0.3169, -0.3206, -0.3301, -0.1006, -0.1261],\n",
      "        [-0.2272,  0.0352,  0.0202, -0.1403,  0.3511],\n",
      "        [-0.5567,  0.0804, -0.2010,  0.4911,  0.2181],\n",
      "        [ 0.2339, -0.2440, -0.0989,  0.7181,  0.2980],\n",
      "        [ 0.1926, -0.0293,  0.0594, -0.1097,  0.3536]],\n",
      "       grad_fn=<ThAddmmBackward>)\n",
      "torch.Size([10, 5])\n",
      "tensor([[ 0.5494, -0.1260,  0.1393,  0.4621, -0.3370],\n",
      "        [-0.5267, -0.1867,  0.0143,  0.0461, -0.0301],\n",
      "        [-0.0428, -0.3549, -0.1722,  0.1338, -0.1906],\n",
      "        [ 0.4127, -0.1264, -0.0057, -0.1803,  0.3873],\n",
      "        [ 0.3357,  0.1785, -0.0948, -0.2974,  0.5829],\n",
      "        [-0.2462, -0.2879,  0.1018,  0.1665, -0.0429],\n",
      "        [ 0.0347, -0.5418, -0.1877, -0.1419,  0.5093],\n",
      "        [ 0.1012, -0.3486, -0.1197, -0.0159,  0.1621],\n",
      "        [-0.1346, -0.0661,  0.1282,  0.1774,  0.0403],\n",
      "        [ 0.3415, -0.5239,  0.0286, -0.1070,  0.0457]],\n",
      "       grad_fn=<ThAddmmBackward>)\n"
     ]
    }
   ],
   "source": [
    "def test_SEN_classify():\n",
    "    x1 = torch.rand(10,1,345,128)\n",
    "    x2 = torch.rand(10,1,345,128)\n",
    "    model = SEN_classify()\n",
    "    pre1,pre2= model(x1,x2)\n",
    "    print(pre1.shape)\n",
    "    print(pre1)\n",
    "    print(pre2.shape)\n",
    "    print(pre2)\n",
    "    return pre1\n",
    "    \n",
    "# target = test_SEN_classify()"
   ]
  }
 ],
 "metadata": {
  "kernelspec": {
   "display_name": "cs231n",
   "language": "python",
   "name": "cs231n"
  },
  "language_info": {
   "codemirror_mode": {
    "name": "ipython",
    "version": 3
   },
   "file_extension": ".py",
   "mimetype": "text/x-python",
   "name": "python",
   "nbconvert_exporter": "python",
   "pygments_lexer": "ipython3",
   "version": "3.6.3"
  },
  "toc": {
   "base_numbering": 1,
   "nav_menu": {},
   "number_sections": true,
   "sideBar": true,
   "skip_h1_title": false,
   "title_cell": "Table of Contents",
   "title_sidebar": "Contents",
   "toc_cell": false,
   "toc_position": {},
   "toc_section_display": true,
   "toc_window_display": false
  }
 },
 "nbformat": 4,
 "nbformat_minor": 0
}
