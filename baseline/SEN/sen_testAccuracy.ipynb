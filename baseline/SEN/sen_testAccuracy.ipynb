{
 "cells": [
  {
   "cell_type": "code",
   "execution_count": 6,
   "metadata": {
    "collapsed": false
   },
   "outputs": [],
   "source": [
    "import numpy as np\n",
    "import librosa\n",
    "import glob\n",
    "import os\n",
    "from random import randint\n",
    "import torch\n",
    "import torch.nn as nn\n",
    "from torch.utils import data\n",
    "import torch.optim as optim\n",
    "from torch.utils.data import DataLoader\n",
    "from torch.utils.data import sampler\n",
    "import matplotlib.pyplot as plt\n",
    "%matplotlib inline\n",
    "\n",
    "import torch.nn.functional as F\n",
    "import import_ipynb\n",
    "from sen_net import *\n",
    "from sen_dataloader import *"
   ]
  },
  {
   "cell_type": "code",
   "execution_count": 7,
   "metadata": {
    "collapsed": false
   },
   "outputs": [
    {
     "name": "stdout",
     "output_type": "stream",
     "text": [
      "3\n"
     ]
    }
   ],
   "source": [
    "torch.cuda.set_device(3)\n",
    "print(torch.cuda.current_device())"
   ]
  },
  {
   "cell_type": "code",
   "execution_count": 8,
   "metadata": {
    "collapsed": true
   },
   "outputs": [],
   "source": [
    "SENmodel = SEN_classify().double()\n",
    "state_dict = torch.load('../../model/baseline_sen.pkl')\n",
    "SENmodel.load_state_dict(state_dict)\n",
    "SENmodel = SENmodel.cuda()\n",
    "SENmodel = SENmodel.eval()"
   ]
  },
  {
   "cell_type": "code",
   "execution_count": 9,
   "metadata": {
    "collapsed": false
   },
   "outputs": [
    {
     "name": "stdout",
     "output_type": "stream",
     "text": [
      "6000\n",
      "6000\n"
     ]
    }
   ],
   "source": [
    "result_score_dict = {}\n",
    "result = []\n",
    "print(len(my_test_data))\n",
    "\n",
    "with torch.no_grad():\n",
    "    for key,token in enumerate(my_test_data):\n",
    "        x1_name,x2_name,exit_index = load_exits_file(my_test_data,key)\n",
    "        X1 = torch.from_numpy(np.expand_dims(np.transpose(np.load(x1_name)),axis=2))\n",
    "        X2 = torch.from_numpy(np.expand_dims(np.transpose(np.load(x2_name)),axis=2))\n",
    "        X = torch.cat((X1,X2),dim=2)\n",
    "        X = X.unsqueeze(0)\n",
    "        X = X.unsqueeze(0) \n",
    "        x1 =torch.transpose((X[...,0]),2,3).cuda()\n",
    "        x2 =torch.transpose((X[...,1]),2,3).cuda()\n",
    "        predict_label = SENmodel(x1,x2).detach().cpu()\n",
    "        result_score_dict[token] = predict_label[0][0]\n",
    "\n",
    "print(len(result_score_dict))\n"
   ]
  },
  {
   "cell_type": "code",
   "execution_count": 12,
   "metadata": {
    "collapsed": false
   },
   "outputs": [
    {
     "name": "stdout",
     "output_type": "stream",
     "text": [
      "Accuracy: 0.67\n"
     ]
    }
   ],
   "source": [
    "from __future__ import division\n",
    "testLength = 1000\n",
    "\n",
    "def get_result_key(index,x1,x2):\n",
    "    return \"song\"+str(index)+\"_\"+str(x1)+\",\"+\"song\"+str(index)+\"_\"+str(x2)\n",
    "\n",
    "def get_result_score(index):\n",
    "    scoreList = []\n",
    "    score_123 = result_score_dict[get_result_key(index,1,2)] + result_score_dict[get_result_key(index,2,3)]\n",
    "    score_132 = result_score_dict[get_result_key(index,1,3)] + result_score_dict[get_result_key(index,3,2)]\n",
    "    score_213 = result_score_dict[get_result_key(index,2,1)] + result_score_dict[get_result_key(index,1,3)]\n",
    "    score_231 = result_score_dict[get_result_key(index,2,3)] + result_score_dict[get_result_key(index,3,1)]\n",
    "    score_312 = result_score_dict[get_result_key(index,3,1)] + result_score_dict[get_result_key(index,1,2)]\n",
    "    score_321 = result_score_dict[get_result_key(index,3,2)] + result_score_dict[get_result_key(index,2,1)]\n",
    "    scoreList.append(score_123)\n",
    "    scoreList.append(score_132)\n",
    "    scoreList.append(score_213)\n",
    "    scoreList.append(score_231)\n",
    "    scoreList.append(score_312)\n",
    "    scoreList.append(score_321)\n",
    "    import operator\n",
    "    index, value = max(enumerate(scoreList), key=operator.itemgetter(1))\n",
    "    return index,value\n",
    "\n",
    "def cal_accuracy(index):\n",
    "    if(index==0):\n",
    "        return 2,True\n",
    "    elif(index==1):\n",
    "        return 0,False\n",
    "    elif(index==2):\n",
    "        return 0,False\n",
    "    elif(index==3):\n",
    "        return 1,False\n",
    "    elif(index==4):\n",
    "        return 1,False\n",
    "    elif(index==5):\n",
    "        return 0,False\n",
    "    else:\n",
    "        return -1,False \n",
    "\n",
    "GA = [0,0,0,0,0,0]\n",
    "PA = 0.0\n",
    "for i in range(6000,7000):\n",
    "    index, value = get_result_score(i)\n",
    "#     print(index,value)\n",
    "    pair,_ = cal_accuracy(index)\n",
    "    PA += pair/3\n",
    "    if(index == 0):\n",
    "        GA[0] += 1\n",
    "    if(index == 1):\n",
    "        GA[1] += 1\n",
    "    if(index == 2):\n",
    "        GA[2] += 1\n",
    "    if(index == 3):\n",
    "        GA[3] += 1\n",
    "    if(index == 4):\n",
    "        GA[4] += 1\n",
    "    if(index == 5):\n",
    "        GA[5] += 1\n",
    "\n",
    "#GA[0] is \"123\"\n",
    "#GA[1,2,3,4,5] is \"132,213,231,312,321\"\n",
    "print(\"Accuracy:\",GA[0]/testLength)\n",
    "\n",
    "# for i in range(6):\n",
    "#     print(\"Accuracy:\",GA[i]/testLength)"
   ]
  }
 ],
 "metadata": {
  "kernelspec": {
   "display_name": "cs231n",
   "language": "python",
   "name": "cs231n"
  },
  "language_info": {
   "codemirror_mode": {
    "name": "ipython",
    "version": 3
   },
   "file_extension": ".py",
   "mimetype": "text/x-python",
   "name": "python",
   "nbconvert_exporter": "python",
   "pygments_lexer": "ipython3",
   "version": "3.6.3"
  },
  "toc": {
   "base_numbering": 1,
   "nav_menu": {},
   "number_sections": true,
   "sideBar": true,
   "skip_h1_title": false,
   "title_cell": "Table of Contents",
   "title_sidebar": "Contents",
   "toc_cell": false,
   "toc_position": {},
   "toc_section_display": true,
   "toc_window_display": false
  }
 },
 "nbformat": 4,
 "nbformat_minor": 0
}
