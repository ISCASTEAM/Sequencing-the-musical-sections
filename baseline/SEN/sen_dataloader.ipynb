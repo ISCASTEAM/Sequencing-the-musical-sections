{
 "cells": [
  {
   "cell_type": "code",
   "execution_count": 1,
   "metadata": {
    "collapsed": true
   },
   "outputs": [],
   "source": [
    "import numpy as np\n",
    "import librosa\n",
    "import glob\n",
    "import os\n",
    "from random import randint\n",
    "import torch\n",
    "import torch.nn as nn\n",
    "from torch.utils import data\n",
    "import torch.optim as optim\n",
    "from torch.utils.data import DataLoader\n",
    "from torch.utils.data import sampler\n",
    "import matplotlib.pyplot as plt\n",
    "%matplotlib inline\n",
    "\n",
    "import import_ipynb"
   ]
  },
  {
   "cell_type": "code",
   "execution_count": 2,
   "metadata": {
    "collapsed": true
   },
   "outputs": [],
   "source": [
    "data_dir = \"/media/data/cuixuange/ScrawlMusic/train_data_normalizatin/\"\n",
    "def load_exits_file(train_data,index):\n",
    "    str_data = train_data[index].split(\",\")      \n",
    "    x1_name = data_dir + str_data[0]+\".npy\"\n",
    "    x2_name = data_dir + str_data[1]+\".npy\"\n",
    "    if os.path.isfile(x1_name) and os.path.isfile(x2_name):\n",
    "        return x1_name,x2_name,index\n",
    "    else:\n",
    "        index += randint(6,9)\n",
    "        return load_exits_file(train_data,index)\n",
    "\n",
    "class Dataset(data.Dataset):\n",
    "    def __init__(self, train_data_list, train_label_list):\n",
    "        'Initialization'\n",
    "        self.labels = train_label_list\n",
    "        self.data = train_data_list\n",
    "\n",
    "    def __len__(self):\n",
    "        'Denotes the total number of samples'\n",
    "        return len(self.data)\n",
    "\n",
    "    def __getitem__(self, index):\n",
    "        'Generates one sample of data'\n",
    "        x1_name,x2_name,exit_index = load_exits_file(self.data,index)\n",
    "        X1 = torch.from_numpy(np.expand_dims(np.transpose(np.load(x1_name)),axis=2))\n",
    "        X2 = torch.from_numpy(np.expand_dims(np.transpose(np.load(x2_name)),axis=2))\n",
    "        X = torch.cat((X1,X2),dim=2)\n",
    "        X = X.unsqueeze(0) #channel\n",
    "        y = torch.tensor(int(self.labels[exit_index]))\n",
    "        return X, y\n",
    "    "
   ]
  },
  {
   "cell_type": "code",
   "execution_count": 3,
   "metadata": {
    "collapsed": true
   },
   "outputs": [],
   "source": [
    "train_data = []\n",
    "train_label = []\n",
    "\n",
    "for song_num in range(6000):\n",
    "    token_train = \"song{}_1,song{}_2\".format(song_num,song_num)\n",
    "    token_label = 0\n",
    "    train_data.append(token_train)\n",
    "    train_label.append(token_label)\n",
    "    \n",
    "    token_train = \"song{}_2,song{}_3\".format(song_num,song_num)\n",
    "    token_label = 0\n",
    "    train_data.append(token_train)\n",
    "    train_label.append(token_label)\n",
    "    \n",
    "    token_train = \"song{}_1,song{}_3\".format(song_num,song_num)\n",
    "    token_label = 1\n",
    "    train_data.append(token_train)\n",
    "    train_label.append(token_label)\n",
    "    \n",
    "    token_train = \"song{}_2,song{}_1\".format(song_num,song_num)\n",
    "    token_label = 1\n",
    "    train_data.append(token_train)\n",
    "    train_label.append(token_label)\n",
    "    \n",
    "    token_train = \"song{}_3,song{}_2\".format(song_num,song_num)\n",
    "    token_label = 1\n",
    "    train_data.append(token_train)\n",
    "    train_label.append(token_label)\n",
    "    \n",
    "    token_train = \"song{}_3,song{}_1\".format(song_num,song_num)\n",
    "    token_label = 1\n",
    "    train_data.append(token_train)\n",
    "    train_label.append(token_label)\n",
    "\n",
    "    \n",
    "# for key,_ in enumerate(train_data):\n",
    "#     print(train_data[key],train_label[key])\n",
    "\n",
    "# print(len(train_data))\n",
    "# print(len(train_label))\n"
   ]
  },
  {
   "cell_type": "code",
   "execution_count": 4,
   "metadata": {
    "collapsed": false
   },
   "outputs": [
    {
     "name": "stdout",
     "output_type": "stream",
     "text": [
      "torch.Size([16, 1, 128, 345]) <class 'torch.Tensor'>\n",
      "torch.Size([16, 1, 128, 345])\n"
     ]
    }
   ],
   "source": [
    "# Parameters\n",
    "params = {'batch_size': 16,\n",
    "          'shuffle': False,\n",
    "          'num_workers': 6}\n",
    "\n",
    "# Generators\n",
    "training_set = Dataset(train_data,train_label)\n",
    "training_generator = data.DataLoader(training_set, **params)\n",
    "\n",
    "# dataiter = iter(training_generator)\n",
    "# train_test, labels = dataiter.next()\n",
    "# x1 = train_test[...,0]\n",
    "# x2 = train_test[...,1]\n",
    "# print(x1.shape,type(x1))\n",
    "# print(x2.shape)\n",
    "\n",
    "# print(labels)\n",
    "# print(type(labels))"
   ]
  },
  {
   "cell_type": "code",
   "execution_count": 5,
   "metadata": {
    "collapsed": true
   },
   "outputs": [],
   "source": [
    "#6000~7000 song is test data\n",
    "\n",
    "my_test_data = []\n",
    "my_test_label = []\n",
    "for song_num in range(6000,7000):\n",
    "    token_train = \"song{}_1,song{}_2\".format(song_num,song_num,song_num,song_num)\n",
    "    token_label = 0\n",
    "    my_test_data.append(token_train)\n",
    "    my_test_label.append(token_label)\n",
    "    \n",
    "    token_train = \"song{}_1,song{}_3\".format(song_num,song_num,song_num,song_num)\n",
    "    token_label = 1\n",
    "    my_test_data.append(token_train)\n",
    "    my_test_label.append(token_label)\n",
    "    \n",
    "    token_train = \"song{}_2,song{}_1\".format(song_num,song_num,song_num,song_num)\n",
    "    token_label = 1\n",
    "    my_test_data.append(token_train)\n",
    "    my_test_label.append(token_label)\n",
    "    \n",
    "    token_train = \"song{}_2,song{}_3\".format(song_num,song_num,song_num,song_num)\n",
    "    token_label = 0\n",
    "    my_test_data.append(token_train)\n",
    "    my_test_label.append(token_label)\n",
    "    \n",
    "    token_train = \"song{}_3,song{}_1\".format(song_num,song_num,song_num,song_num)\n",
    "    token_label = 1\n",
    "    my_test_data.append(token_train)\n",
    "    my_test_label.append(token_label)\n",
    "    \n",
    "    token_train = \"song{}_3,song{}_2\".format(song_num,song_num,song_num,song_num)\n",
    "    token_label = 1\n",
    "    my_test_data.append(token_train)\n",
    "    my_test_label.append(token_label)\n",
    "\n",
    "\n",
    "# with open('/media/data/cuixuange/ScrawlMusic/avg_std/my_test_data_tripleNet.txt', 'w') as the_file:\n",
    "#     for token in my_test_data:\n",
    "#         the_file.write(token+\"\\n\")\n",
    "        \n",
    "# with open('/media/data/cuixuange/ScrawlMusic/avg_std/my_test_label_tripleNet.txt', 'w') as the_file:\n",
    "#     for token in my_test_label:\n",
    "#         the_file.write(str(token)+\"\\n\")"
   ]
  }
 ],
 "metadata": {
  "kernelspec": {
   "display_name": "cs231n",
   "language": "python",
   "name": "cs231n"
  },
  "language_info": {
   "codemirror_mode": {
    "name": "ipython",
    "version": 3
   },
   "file_extension": ".py",
   "mimetype": "text/x-python",
   "name": "python",
   "nbconvert_exporter": "python",
   "pygments_lexer": "ipython3",
   "version": "3.6.3"
  },
  "toc": {
   "base_numbering": 1,
   "nav_menu": {},
   "number_sections": true,
   "sideBar": true,
   "skip_h1_title": false,
   "title_cell": "Table of Contents",
   "title_sidebar": "Contents",
   "toc_cell": false,
   "toc_position": {},
   "toc_section_display": true,
   "toc_window_display": false
  }
 },
 "nbformat": 4,
 "nbformat_minor": 0
}
