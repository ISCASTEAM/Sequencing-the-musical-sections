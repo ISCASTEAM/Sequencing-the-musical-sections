{
 "cells": [
  {
   "cell_type": "code",
   "execution_count": 1,
   "metadata": {
    "collapsed": false
   },
   "outputs": [],
   "source": [
    "import numpy as np\n",
    "import librosa\n",
    "import glob\n",
    "import os\n",
    "from random import randint\n",
    "import torch\n",
    "import torch.nn as nn\n",
    "from torch.utils import data\n",
    "import torch.optim as optim\n",
    "from torch.utils.data import DataLoader\n",
    "from torch.utils.data import sampler\n",
    "import matplotlib.pyplot as plt\n",
    "import torch.nn.functional as F\n",
    "%matplotlib inline\n",
    "\n",
    "import import_ipynb"
   ]
  },
  {
   "cell_type": "code",
   "execution_count": 2,
   "metadata": {
    "collapsed": true
   },
   "outputs": [],
   "source": [
    "class SEN_classify(nn.Module):\n",
    "    def __init__(self):\n",
    "        super().__init__()\n",
    "        self.siamese_cnn = nn.Sequential(\n",
    "            nn.Conv2d(1, 128, kernel_size=[4,128],stride=[1,128]),\n",
    "            nn.BatchNorm2d(128),\n",
    "            nn.ReLU(),\n",
    "            \n",
    "            nn.Conv2d(128, 256, kernel_size=[4,1],stride=[1,1]),\n",
    "            nn.BatchNorm2d(256),\n",
    "            nn.ReLU(),\n",
    "            \n",
    "            nn.Conv2d(256, 256, kernel_size=[4,1],stride=[1,1]),\n",
    "            nn.BatchNorm2d(256),\n",
    "            nn.ReLU(),\n",
    "            )\n",
    "        #max_pool 注意保证padding=\"same\"\n",
    "        self.late_cnn = nn.Sequential(\n",
    "            nn.Conv2d(1, 64, kernel_size=[3,3],stride=[1,1]),\n",
    "            nn.BatchNorm2d(64),\n",
    "            nn.ReLU(),\n",
    "            nn.MaxPool2d(kernel_size=[3,3],stride=[3,3],padding=1),\n",
    "            \n",
    "            nn.Conv2d(64, 128, kernel_size=[3,3],stride=[1,1]),\n",
    "            nn.BatchNorm2d(128),\n",
    "            nn.ReLU(),\n",
    "            nn.MaxPool2d(kernel_size=[3,3],stride=[3,3],padding=[1,0]),\n",
    "\n",
    "            nn.Conv2d(128, 256, kernel_size=[3,3],stride=[1,1]),\n",
    "            nn.BatchNorm2d(256),\n",
    "            nn.ReLU(),\n",
    "            )\n",
    "        self.fcWithDropout = nn.Sequential(\n",
    "            nn.Linear(768, 1024),\n",
    "            nn.BatchNorm1d(1024),\n",
    "            nn.ReLU(),\n",
    "            nn.Dropout(p=0.5),\n",
    "            \n",
    "            nn.Linear(1024, 1024),\n",
    "            nn.BatchNorm1d(1024),\n",
    "            nn.ReLU(),\n",
    "            nn.Dropout(p=0.5),\n",
    "            \n",
    "            nn.Linear(1024, 2),\n",
    "            nn.Softmax(dim=1)\n",
    "            )\n",
    "    def cal_similarity(self,matrix1,matrix2):\n",
    "        #out1.shape = torch.Size([10, 256, 336])\n",
    "        out1 = torch.squeeze(matrix1,dim=3)\n",
    "        out2 = torch.squeeze(matrix2,dim=3)\n",
    "        #num.shape = torch.Size([10, 336, 336])\n",
    "        num = torch.bmm(torch.transpose(out1,1,2),out2)\n",
    "        h1_norm = torch.sqrt(torch.sum(torch.mul(out1,out1), dim=1, keepdim=True))\n",
    "        h2_norm = torch.sqrt(torch.sum(torch.mul(out2,out2), dim=1, keepdim=True))\n",
    "        #denom torch.Size([10, 336, 336])\n",
    "        denom = torch.bmm(torch.transpose(h1_norm,1,2),h2_norm)\n",
    "        #fms shape torch.Size([10, 1, 336, 336])\n",
    "        fms = torch.unsqueeze(torch.div(num,denom),dim=1)\n",
    "        return fms\n",
    "    \n",
    "    def _reduce_var(self,inputs):\n",
    "        m1 = torch.mean(inputs,dim=2,keepdim=True)\n",
    "        m = torch.mean(m1,dim=3,keepdim=True)\n",
    "        devs_squared1 = torch.mul(inputs - m,inputs - m)\n",
    "        #not keep dim\n",
    "        devs_squared2 = torch.mean(devs_squared1,dim=2)\n",
    "        devs_squared = torch.mean(devs_squared2,dim=2)\n",
    "        return devs_squared\n",
    "\n",
    "    def cal_global_pool(self,matrix):\n",
    "        # not keep dim\n",
    "        g_max1,_ = torch.max(matrix,dim=2)\n",
    "        g_max,_ = torch.max(g_max1,dim=2)\n",
    "        g_mean1 = torch.mean(matrix,dim=2)\n",
    "        g_mean = torch.mean(g_mean1,dim=2)\n",
    "        g_var = self._reduce_var(matrix)\n",
    "        return torch.cat([g_max, g_mean, g_var], 1)\n",
    "        \n",
    "    def forward(self,x1,x2):\n",
    "        out1 = self.siamese_cnn(x1)\n",
    "        out2 = self.siamese_cnn(x2)\n",
    "        similarity = self.cal_similarity(out1,out2)\n",
    "        late_cnn_out = self.late_cnn(similarity)\n",
    "        golbal_pool_out = self.cal_global_pool(late_cnn_out)\n",
    "        predictions = self.fcWithDropout(golbal_pool_out)\n",
    "        return predictions"
   ]
  },
  {
   "cell_type": "code",
   "execution_count": 4,
   "metadata": {
    "collapsed": false
   },
   "outputs": [
    {
     "data": {
      "text/plain": [
       "tensor([[0.4712, 0.5288],\n",
       "        [0.4263, 0.5737],\n",
       "        [0.5564, 0.4436],\n",
       "        [0.5494, 0.4506],\n",
       "        [0.3498, 0.6502],\n",
       "        [0.5229, 0.4771],\n",
       "        [0.3029, 0.6971],\n",
       "        [0.4495, 0.5505],\n",
       "        [0.2766, 0.7234],\n",
       "        [0.3330, 0.6670],\n",
       "        [0.4452, 0.5548],\n",
       "        [0.4032, 0.5968],\n",
       "        [0.4481, 0.5519],\n",
       "        [0.2997, 0.7003],\n",
       "        [0.4722, 0.5278],\n",
       "        [0.4708, 0.5292]], grad_fn=<SoftmaxBackward>)"
      ]
     },
     "execution_count": 4,
     "metadata": {},
     "output_type": "execute_result"
    }
   ],
   "source": [
    "def test_SEN_classify():\n",
    "    #batchsize channel height width\n",
    "    x1 = torch.rand(16,1,345,128)\n",
    "    x2 = torch.rand(16,1,345,128)\n",
    "    model = SEN_classify()\n",
    "    pre1 = model(x1,x2)\n",
    "#     print(pre1.shape)\n",
    "#     print(pre1)\n",
    "    return pre1\n",
    "\n",
    "# test_SEN_classify()"
   ]
  }
 ],
 "metadata": {
  "kernelspec": {
   "display_name": "cs231n",
   "language": "python",
   "name": "cs231n"
  },
  "language_info": {
   "codemirror_mode": {
    "name": "ipython",
    "version": 3
   },
   "file_extension": ".py",
   "mimetype": "text/x-python",
   "name": "python",
   "nbconvert_exporter": "python",
   "pygments_lexer": "ipython3",
   "version": "3.6.3"
  },
  "toc": {
   "base_numbering": 1,
   "nav_menu": {},
   "number_sections": true,
   "sideBar": true,
   "skip_h1_title": false,
   "title_cell": "Table of Contents",
   "title_sidebar": "Contents",
   "toc_cell": false,
   "toc_position": {},
   "toc_section_display": true,
   "toc_window_display": false
  }
 },
 "nbformat": 4,
 "nbformat_minor": 0
}
