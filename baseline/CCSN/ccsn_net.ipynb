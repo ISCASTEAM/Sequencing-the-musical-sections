{
 "cells": [
  {
   "cell_type": "code",
   "execution_count": 3,
   "metadata": {
    "collapsed": true
   },
   "outputs": [],
   "source": [
    "import numpy as np\n",
    "import librosa\n",
    "import glob\n",
    "import os\n",
    "from random import randint\n",
    "import torch\n",
    "import torch.nn as nn\n",
    "from torch.utils import data\n",
    "import torch.optim as optim\n",
    "from torch.utils.data import DataLoader\n",
    "from torch.utils.data import sampler\n",
    "import matplotlib.pyplot as plt\n",
    "%matplotlib inline\n",
    "\n",
    "import import_ipynb"
   ]
  },
  {
   "cell_type": "code",
   "execution_count": 4,
   "metadata": {
    "collapsed": false
   },
   "outputs": [],
   "source": [
    "class SEN_classify(nn.Module):\n",
    "    def __init__(self):\n",
    "        super().__init__()\n",
    "        self.siamese_cnn = nn.Sequential(\n",
    "            nn.Conv2d(1, 128, kernel_size=[4,128],stride=[1,128]),\n",
    "            nn.BatchNorm2d(128),\n",
    "            nn.ReLU(),\n",
    "            \n",
    "            nn.Conv2d(128, 256, kernel_size=[4,1],stride=[1,1]),\n",
    "            nn.BatchNorm2d(256),\n",
    "            nn.ReLU(),\n",
    "            \n",
    "            nn.Conv2d(256, 256, kernel_size=[4,1],stride=[1,1]),\n",
    "            nn.BatchNorm2d(256),\n",
    "            nn.ReLU(),\n",
    "            )\n",
    "        #max_pool keep padding=\"same\"\n",
    "        self.late_cnn = nn.Sequential(\n",
    "            nn.Conv2d(2, 64, kernel_size=[3,3],stride=[1,1]),\n",
    "            nn.BatchNorm2d(64),\n",
    "            nn.ReLU(),\n",
    "            nn.MaxPool2d(kernel_size=[3,3],stride=[3,3],padding=1),\n",
    "            \n",
    "            nn.Conv2d(64, 128, kernel_size=[3,3],stride=[1,1]),\n",
    "            nn.BatchNorm2d(128),\n",
    "            nn.ReLU(),\n",
    "            nn.MaxPool2d(kernel_size=[3,3],stride=[3,3],padding=[1,0]),\n",
    "\n",
    "            nn.Conv2d(128, 256, kernel_size=[3,3],stride=[1,1]),\n",
    "            nn.BatchNorm2d(256),\n",
    "            nn.ReLU(),\n",
    "            )\n",
    "        self.fcWithDropout = nn.Sequential(\n",
    "            nn.Linear(768, 1024),\n",
    "            nn.BatchNorm1d(1024),\n",
    "            nn.ReLU(),\n",
    "            nn.Dropout(p=0.5),\n",
    "            \n",
    "            nn.Linear(1024, 1024),\n",
    "            nn.BatchNorm1d(1024),\n",
    "            nn.ReLU(),\n",
    "            nn.Dropout(p=0.5),\n",
    "            \n",
    "            nn.Linear(1024, 2),\n",
    "            nn.Softmax(dim=1)\n",
    "            )\n",
    "    def cal_concat(self,matrix1,matrix2):\n",
    "        out1 = torch.squeeze(matrix1,dim=3)\n",
    "        out2 = torch.squeeze(matrix2,dim=3)\n",
    "        fms1 = torch.unsqueeze(out1,dim=1)\n",
    "        fms2 = torch.unsqueeze(out1,dim=1)\n",
    "        return torch.cat([fms1, fms2], 1)\n",
    "    \n",
    "    def _reduce_var(self,inputs):\n",
    "        m1 = torch.mean(inputs,dim=2,keepdim=True)\n",
    "        m = torch.mean(m1,dim=3,keepdim=True)\n",
    "        devs_squared1 = torch.mul(inputs - m,inputs - m)\n",
    "        #not keep dim\n",
    "        devs_squared2 = torch.mean(devs_squared1,dim=2)\n",
    "        devs_squared = torch.mean(devs_squared2,dim=2)\n",
    "        return devs_squared\n",
    "\n",
    "    def cal_global_pool(self,matrix):\n",
    "        # not keep dim\n",
    "        g_max1,_ = torch.max(matrix,dim=2)\n",
    "        g_max,_ = torch.max(g_max1,dim=2)\n",
    "        g_mean1 = torch.mean(matrix,dim=2)\n",
    "        g_mean = torch.mean(g_mean1,dim=2)\n",
    "        g_var = self._reduce_var(matrix)\n",
    "        return torch.cat([g_max, g_mean, g_var], 1)\n",
    "        \n",
    "    def forward(self,x1,x2):\n",
    "        out1 = self.siamese_cnn(x1)\n",
    "        out2 = self.siamese_cnn(x2)\n",
    "        concat = self.cal_concat(out1,out2)\n",
    "        late_cnn_out = self.late_cnn(concat)\n",
    "        golbal_pool_out = self.cal_global_pool(late_cnn_out)\n",
    "        predictions = self.fcWithDropout(golbal_pool_out)\n",
    "        return predictions"
   ]
  },
  {
   "cell_type": "code",
   "execution_count": 5,
   "metadata": {
    "collapsed": false
   },
   "outputs": [
    {
     "name": "stdout",
     "output_type": "stream",
     "text": [
      "torch.Size([32, 2])\n"
     ]
    },
    {
     "data": {
      "text/plain": [
       "tensor([[0.6261, 0.3739],\n",
       "        [0.5096, 0.4904],\n",
       "        [0.5704, 0.4296],\n",
       "        [0.5873, 0.4127],\n",
       "        [0.6084, 0.3916],\n",
       "        [0.6255, 0.3745],\n",
       "        [0.5223, 0.4777],\n",
       "        [0.6388, 0.3612],\n",
       "        [0.6859, 0.3141],\n",
       "        [0.5932, 0.4068],\n",
       "        [0.4961, 0.5039],\n",
       "        [0.5108, 0.4892],\n",
       "        [0.7574, 0.2426],\n",
       "        [0.6056, 0.3944],\n",
       "        [0.6148, 0.3852],\n",
       "        [0.4939, 0.5061],\n",
       "        [0.5957, 0.4043],\n",
       "        [0.7272, 0.2728],\n",
       "        [0.7381, 0.2619],\n",
       "        [0.5266, 0.4734],\n",
       "        [0.4489, 0.5511],\n",
       "        [0.5259, 0.4741],\n",
       "        [0.6374, 0.3626],\n",
       "        [0.4956, 0.5044],\n",
       "        [0.4732, 0.5268],\n",
       "        [0.3317, 0.6683],\n",
       "        [0.5426, 0.4574],\n",
       "        [0.4456, 0.5544],\n",
       "        [0.5735, 0.4265],\n",
       "        [0.5398, 0.4602],\n",
       "        [0.5428, 0.4572],\n",
       "        [0.7272, 0.2728]], grad_fn=<SoftmaxBackward>)"
      ]
     },
     "execution_count": 5,
     "metadata": {},
     "output_type": "execute_result"
    }
   ],
   "source": [
    "def test_SEN_classify():\n",
    "    #batchsize channel height width\n",
    "    x1 = torch.rand(32,1,345,128)\n",
    "    x2 = torch.rand(32,1,345,128)\n",
    "    model = SEN_classify()\n",
    "    pre1 = model(x1,x2)\n",
    "    print(pre1.shape)\n",
    "#     print(pre1)\n",
    "    return pre1\n",
    "\n",
    "# test_SEN_classify()"
   ]
  },
  {
   "cell_type": "code",
   "execution_count": null,
   "metadata": {
    "collapsed": true
   },
   "outputs": [],
   "source": []
  }
 ],
 "metadata": {
  "kernelspec": {
   "display_name": "cs231n",
   "language": "python",
   "name": "cs231n"
  },
  "language_info": {
   "codemirror_mode": {
    "name": "ipython",
    "version": 3
   },
   "file_extension": ".py",
   "mimetype": "text/x-python",
   "name": "python",
   "nbconvert_exporter": "python",
   "pygments_lexer": "ipython3",
   "version": "3.6.3"
  },
  "toc": {
   "base_numbering": 1,
   "nav_menu": {},
   "number_sections": true,
   "sideBar": true,
   "skip_h1_title": false,
   "title_cell": "Table of Contents",
   "title_sidebar": "Contents",
   "toc_cell": false,
   "toc_position": {},
   "toc_section_display": true,
   "toc_window_display": false
  }
 },
 "nbformat": 4,
 "nbformat_minor": 0
}
