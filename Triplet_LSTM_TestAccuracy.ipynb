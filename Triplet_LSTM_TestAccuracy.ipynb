{
 "cells": [
  {
   "cell_type": "code",
   "execution_count": 1,
   "metadata": {
    "collapsed": false
   },
   "outputs": [
    {
     "name": "stdout",
     "output_type": "stream",
     "text": [
      "importing Jupyter notebook from Triplet_LSTM_Net.ipynb\n",
      "importing Jupyter notebook from Triplet_LSTM_Dataloader.ipynb\n"
     ]
    }
   ],
   "source": [
    "import numpy as np\n",
    "import librosa\n",
    "import glob\n",
    "import os\n",
    "from random import randint\n",
    "import torch\n",
    "import torch.nn as nn\n",
    "from torch.utils import data\n",
    "import torch.optim as optim\n",
    "from torch.utils.data import DataLoader\n",
    "from torch.utils.data import sampler\n",
    "import matplotlib.pyplot as plt\n",
    "%matplotlib inline\n",
    "\n",
    "import import_ipynb\n",
    "from Triplet_LSTM_Net import *\n",
    "from Triplet_LSTM_Dataloader import *"
   ]
  },
  {
   "cell_type": "code",
   "execution_count": 2,
   "metadata": {
    "collapsed": false
   },
   "outputs": [
    {
     "name": "stdout",
     "output_type": "stream",
     "text": [
      "3\n"
     ]
    }
   ],
   "source": [
    "torch.cuda.set_device(3)\n",
    "print(torch.cuda.current_device())"
   ]
  },
  {
   "cell_type": "code",
   "execution_count": 5,
   "metadata": {
    "collapsed": false
   },
   "outputs": [],
   "source": [
    "tripleNet_LSTM_model = TripletLSTM().double().cuda()\n",
    "state_dict = torch.load('./model/tripleNet_LSTM.pkl',map_location={'cuda:0':'cuda:3'})\n",
    "from collections import OrderedDict\n",
    "new_state_dict = OrderedDict()\n",
    "for k, v in state_dict.items():\n",
    "    name = k[7:] \n",
    "    new_state_dict[name] = v\n",
    "tripleNet_LSTM_model.load_state_dict(new_state_dict)\n",
    "tripleNet_LSTM_model = tripleNet_LSTM_model.eval()"
   ]
  },
  {
   "cell_type": "code",
   "execution_count": 16,
   "metadata": {
    "collapsed": true
   },
   "outputs": [],
   "source": [
    "data_dir = \"/media/data/cuixuange/ScrawlMusic/train_data_normalizatin/\"\n",
    "def load_exits_file(train_data,index):\n",
    "    str_data = train_data[index].split(\",\")      \n",
    "    x1_name = data_dir + str_data[0]+\".npy\"\n",
    "    x2_name = data_dir + str_data[1]+\".npy\"\n",
    "    x3_name = data_dir + str_data[2]+\".npy\"\n",
    "    if os.path.isfile(x1_name) and os.path.isfile(x2_name) and os.path.isfile(x3_name): \n",
    "        return x1_name,x2_name,x3_name,index\n",
    "    else:\n",
    "        index += 6\n",
    "        return load_exits_file(train_data,index)\n",
    "\n",
    "result_score_dict = {}\n",
    "result = []\n",
    "\n",
    "with torch.no_grad():\n",
    "    for key,token in enumerate(my_test_data):\n",
    "        x1_name,x2_name,x3_name,exit_index = load_exits_file(my_test_data,key)\n",
    "        x1 = torch.from_numpy(np.load(x1_name)).unsqueeze(0).unsqueeze(0).cuda()\n",
    "        x2 = torch.from_numpy(np.load(x2_name)).unsqueeze(0).unsqueeze(0).cuda()\n",
    "        x3 = torch.from_numpy(np.load(x3_name)).unsqueeze(0).unsqueeze(0).cuda()\n",
    "\n",
    "        predict_label = tripleNet_LSTM_model(x1,x2,x3).detach().cpu()\n",
    "        result_score_dict[token] = predict_label[0][0]\n"
   ]
  },
  {
   "cell_type": "code",
   "execution_count": 17,
   "metadata": {
    "collapsed": false
   },
   "outputs": [
    {
     "name": "stdout",
     "output_type": "stream",
     "text": [
      "6000\n",
      "6000\n"
     ]
    }
   ],
   "source": [
    "print(len(my_test_data))\n",
    "print(len(result_score_dict))\n",
    "# for key in result_score_dict:\n",
    "#     print(key,result_score_dict[key])"
   ]
  },
  {
   "cell_type": "code",
   "execution_count": 20,
   "metadata": {
    "collapsed": false
   },
   "outputs": [
    {
     "name": "stdout",
     "output_type": "stream",
     "text": [
      "Accuracy: 0.758\n"
     ]
    }
   ],
   "source": [
    "from __future__ import division\n",
    "testLength = 1000\n",
    "\n",
    "def get_result_key(index,x1,x2,x3):\n",
    "    return \"song\"+str(index)+\"_\"+str(x1)+\",\"+\"song\"+str(index)+\"_\"+str(x2)+\",\"+\"song\"+str(index)+\"_\"+str(x3)\n",
    "\n",
    "def get_result_score(index):\n",
    "    scoreList = []\n",
    "    score_123 = result_score_dict[get_result_key(index,1,2,3)] \n",
    "    score_132 = result_score_dict[get_result_key(index,1,3,2)] \n",
    "    score_213 = result_score_dict[get_result_key(index,2,1,3)] \n",
    "    score_231 = result_score_dict[get_result_key(index,2,3,1)] \n",
    "    score_312 = result_score_dict[get_result_key(index,3,1,2)] \n",
    "    score_321 = result_score_dict[get_result_key(index,3,2,1)] \n",
    "    scoreList.append(score_123)\n",
    "    scoreList.append(score_132)\n",
    "    scoreList.append(score_213)\n",
    "    scoreList.append(score_231)\n",
    "    scoreList.append(score_312)\n",
    "    scoreList.append(score_321)\n",
    "    import operator\n",
    "    index, value = max(enumerate(scoreList), key=operator.itemgetter(1))\n",
    "    return index,value\n",
    "\n",
    "def cal_accuracy(index):\n",
    "    if(index==0):\n",
    "        return 2,True\n",
    "    elif(index==1):\n",
    "        return 0,False\n",
    "    elif(index==2):\n",
    "        return 0,False\n",
    "    elif(index==3):\n",
    "        return 1,False\n",
    "    elif(index==4):\n",
    "        return 1,False\n",
    "    elif(index==5):\n",
    "        return 0,False\n",
    "    else:\n",
    "        return -1,False \n",
    "\n",
    "GA = [0,0,0,0,0,0]\n",
    "PA = 0.0\n",
    "for i in range(6000,7000):\n",
    "    index, value = get_result_score(i)\n",
    "#     print(index,value)\n",
    "    pair,_ = cal_accuracy(index)\n",
    "    PA += pair/3\n",
    "    if(index == 0):\n",
    "        GA[0] += 1\n",
    "    if(index == 1):\n",
    "        GA[1] += 1\n",
    "    if(index == 2):\n",
    "        GA[2] += 1\n",
    "    if(index == 3):\n",
    "        GA[3] += 1\n",
    "    if(index == 4):\n",
    "        GA[4] += 1\n",
    "    if(index == 5):\n",
    "        GA[5] += 1\n",
    "\n",
    "#GA[0] is \"123\"\n",
    "#GA[1,2,,3,4,5] is \"132,213,231,312,321\"\n",
    "print(\"Accuracy:\",GA[0]/testLength)\n",
    "\n",
    "# for i in range(6):\n",
    "#     print(\"Accuracy:\",GA[i]/testLength)"
   ]
  }
 ],
 "metadata": {
  "kernelspec": {
   "display_name": "cs231n",
   "language": "python",
   "name": "cs231n"
  },
  "language_info": {
   "codemirror_mode": {
    "name": "ipython",
    "version": 3
   },
   "file_extension": ".py",
   "mimetype": "text/x-python",
   "name": "python",
   "nbconvert_exporter": "python",
   "pygments_lexer": "ipython3",
   "version": "3.6.3"
  },
  "toc": {
   "base_numbering": 1,
   "nav_menu": {},
   "number_sections": true,
   "sideBar": true,
   "skip_h1_title": false,
   "title_cell": "Table of Contents",
   "title_sidebar": "Contents",
   "toc_cell": false,
   "toc_position": {},
   "toc_section_display": true,
   "toc_window_display": false
  }
 },
 "nbformat": 4,
 "nbformat_minor": 0
}
